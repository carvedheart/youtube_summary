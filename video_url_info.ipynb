{
  "nbformat": 4,
  "nbformat_minor": 0,
  "metadata": {
    "colab": {
      "provenance": [],
      "authorship_tag": "ABX9TyMnB7MJYtTZh6IipO1RXG6S",
      "include_colab_link": true
    },
    "kernelspec": {
      "name": "python3",
      "display_name": "Python 3"
    },
    "language_info": {
      "name": "python"
    }
  },
  "cells": [
    {
      "cell_type": "markdown",
      "metadata": {
        "id": "view-in-github",
        "colab_type": "text"
      },
      "source": [
        "<a href=\"https://colab.research.google.com/github/carvedheart/youtube_summary/blob/main/video_url_info.ipynb\" target=\"_parent\"><img src=\"https://colab.research.google.com/assets/colab-badge.svg\" alt=\"Open In Colab\"/></a>"
      ]
    },
    {
      "cell_type": "code",
      "execution_count": 157,
      "metadata": {
        "colab": {
          "base_uri": "https://localhost:8080/"
        },
        "id": "sx52VYXUhg5O",
        "outputId": "a4b1e10a-e9a8-4390-aaf6-3b2f9df0d5ee"
      },
      "outputs": [
        {
          "output_type": "stream",
          "name": "stdout",
          "text": [
            "Requirement already satisfied: pyspark in /usr/local/lib/python3.11/dist-packages (3.5.5)\n",
            "Requirement already satisfied: pytubefix in /usr/local/lib/python3.11/dist-packages (8.12.3)\n",
            "Requirement already satisfied: whisper-openai in /usr/local/lib/python3.11/dist-packages (1.0.0)\n",
            "Requirement already satisfied: py4j==0.10.9.7 in /usr/local/lib/python3.11/dist-packages (from pyspark) (0.10.9.7)\n",
            "Requirement already satisfied: numpy in /usr/local/lib/python3.11/dist-packages (from whisper-openai) (1.26.4)\n",
            "Requirement already satisfied: torch in /usr/local/lib/python3.11/dist-packages (from whisper-openai) (2.5.1+cu124)\n",
            "Requirement already satisfied: tqdm in /usr/local/lib/python3.11/dist-packages (from whisper-openai) (4.67.1)\n",
            "Requirement already satisfied: more-itertools in /usr/local/lib/python3.11/dist-packages (from whisper-openai) (10.6.0)\n",
            "Requirement already satisfied: transformers>=4.19.0 in /usr/local/lib/python3.11/dist-packages (from whisper-openai) (4.48.3)\n",
            "Requirement already satisfied: ffmpeg-python==0.2.0 in /usr/local/lib/python3.11/dist-packages (from whisper-openai) (0.2.0)\n",
            "Requirement already satisfied: future in /usr/local/lib/python3.11/dist-packages (from ffmpeg-python==0.2.0->whisper-openai) (1.0.0)\n",
            "Requirement already satisfied: filelock in /usr/local/lib/python3.11/dist-packages (from transformers>=4.19.0->whisper-openai) (3.17.0)\n",
            "Requirement already satisfied: huggingface-hub<1.0,>=0.24.0 in /usr/local/lib/python3.11/dist-packages (from transformers>=4.19.0->whisper-openai) (0.28.1)\n",
            "Requirement already satisfied: packaging>=20.0 in /usr/local/lib/python3.11/dist-packages (from transformers>=4.19.0->whisper-openai) (24.2)\n",
            "Requirement already satisfied: pyyaml>=5.1 in /usr/local/lib/python3.11/dist-packages (from transformers>=4.19.0->whisper-openai) (6.0.2)\n",
            "Requirement already satisfied: regex!=2019.12.17 in /usr/local/lib/python3.11/dist-packages (from transformers>=4.19.0->whisper-openai) (2024.11.6)\n",
            "Requirement already satisfied: requests in /usr/local/lib/python3.11/dist-packages (from transformers>=4.19.0->whisper-openai) (2.32.3)\n",
            "Requirement already satisfied: tokenizers<0.22,>=0.21 in /usr/local/lib/python3.11/dist-packages (from transformers>=4.19.0->whisper-openai) (0.21.0)\n",
            "Requirement already satisfied: safetensors>=0.4.1 in /usr/local/lib/python3.11/dist-packages (from transformers>=4.19.0->whisper-openai) (0.5.3)\n",
            "Requirement already satisfied: typing-extensions>=4.8.0 in /usr/local/lib/python3.11/dist-packages (from torch->whisper-openai) (4.12.2)\n",
            "Requirement already satisfied: networkx in /usr/local/lib/python3.11/dist-packages (from torch->whisper-openai) (3.4.2)\n",
            "Requirement already satisfied: jinja2 in /usr/local/lib/python3.11/dist-packages (from torch->whisper-openai) (3.1.5)\n",
            "Requirement already satisfied: fsspec in /usr/local/lib/python3.11/dist-packages (from torch->whisper-openai) (2024.10.0)\n",
            "Requirement already satisfied: nvidia-cuda-nvrtc-cu12==12.4.127 in /usr/local/lib/python3.11/dist-packages (from torch->whisper-openai) (12.4.127)\n",
            "Requirement already satisfied: nvidia-cuda-runtime-cu12==12.4.127 in /usr/local/lib/python3.11/dist-packages (from torch->whisper-openai) (12.4.127)\n",
            "Requirement already satisfied: nvidia-cuda-cupti-cu12==12.4.127 in /usr/local/lib/python3.11/dist-packages (from torch->whisper-openai) (12.4.127)\n",
            "Requirement already satisfied: nvidia-cudnn-cu12==9.1.0.70 in /usr/local/lib/python3.11/dist-packages (from torch->whisper-openai) (9.1.0.70)\n",
            "Requirement already satisfied: nvidia-cublas-cu12==12.4.5.8 in /usr/local/lib/python3.11/dist-packages (from torch->whisper-openai) (12.4.5.8)\n",
            "Requirement already satisfied: nvidia-cufft-cu12==11.2.1.3 in /usr/local/lib/python3.11/dist-packages (from torch->whisper-openai) (11.2.1.3)\n",
            "Requirement already satisfied: nvidia-curand-cu12==10.3.5.147 in /usr/local/lib/python3.11/dist-packages (from torch->whisper-openai) (10.3.5.147)\n",
            "Requirement already satisfied: nvidia-cusolver-cu12==11.6.1.9 in /usr/local/lib/python3.11/dist-packages (from torch->whisper-openai) (11.6.1.9)\n",
            "Requirement already satisfied: nvidia-cusparse-cu12==12.3.1.170 in /usr/local/lib/python3.11/dist-packages (from torch->whisper-openai) (12.3.1.170)\n",
            "Requirement already satisfied: nvidia-nccl-cu12==2.21.5 in /usr/local/lib/python3.11/dist-packages (from torch->whisper-openai) (2.21.5)\n",
            "Requirement already satisfied: nvidia-nvtx-cu12==12.4.127 in /usr/local/lib/python3.11/dist-packages (from torch->whisper-openai) (12.4.127)\n",
            "Requirement already satisfied: nvidia-nvjitlink-cu12==12.4.127 in /usr/local/lib/python3.11/dist-packages (from torch->whisper-openai) (12.4.127)\n",
            "Requirement already satisfied: triton==3.1.0 in /usr/local/lib/python3.11/dist-packages (from torch->whisper-openai) (3.1.0)\n",
            "Requirement already satisfied: sympy==1.13.1 in /usr/local/lib/python3.11/dist-packages (from torch->whisper-openai) (1.13.1)\n",
            "Requirement already satisfied: mpmath<1.4,>=1.1.0 in /usr/local/lib/python3.11/dist-packages (from sympy==1.13.1->torch->whisper-openai) (1.3.0)\n",
            "Requirement already satisfied: MarkupSafe>=2.0 in /usr/local/lib/python3.11/dist-packages (from jinja2->torch->whisper-openai) (3.0.2)\n",
            "Requirement already satisfied: charset-normalizer<4,>=2 in /usr/local/lib/python3.11/dist-packages (from requests->transformers>=4.19.0->whisper-openai) (3.4.1)\n",
            "Requirement already satisfied: idna<4,>=2.5 in /usr/local/lib/python3.11/dist-packages (from requests->transformers>=4.19.0->whisper-openai) (3.10)\n",
            "Requirement already satisfied: urllib3<3,>=1.21.1 in /usr/local/lib/python3.11/dist-packages (from requests->transformers>=4.19.0->whisper-openai) (2.3.0)\n",
            "Requirement already satisfied: certifi>=2017.4.17 in /usr/local/lib/python3.11/dist-packages (from requests->transformers>=4.19.0->whisper-openai) (2025.1.31)\n"
          ]
        }
      ],
      "source": [
        "!pip install pyspark pytubefix whisper-openai\n",
        "\n",
        "from pytubefix import Playlist, Channel, YouTube\n",
        "from pyspark.sql import SparkSession\n",
        "from pyspark.sql.functions import lit, udf\n",
        "from pyspark.sql.types import StringType\n",
        "from pyspark import SparkConf\n",
        "import pandas as pd\n",
        "import whisper\n",
        "import os\n",
        "import re"
      ]
    },
    {
      "cell_type": "code",
      "source": [
        "def channel_or_playlist(url):\n",
        "    \"\"\"Xác định loại URL YouTube (Channel, Playlist hay Video thông thường)\"\"\"\n",
        "    if \"youtube.com\" not in url and \"youtu.be\" not in url:\n",
        "        return \"Không phải URL YouTube\"\n",
        "\n",
        "    if not url.startswith((\"http://\", \"https://\")):\n",
        "        url = \"https://\" + url\n",
        "\n",
        "    from urllib.parse import urlparse, parse_qs\n",
        "    parsed_url = urlparse(url)\n",
        "    query_params = parse_qs(parsed_url.query)\n",
        "\n",
        "    if \"list\" in query_params or \"/playlist\" in parsed_url.path:\n",
        "        return \"Playlist\"\n",
        "\n",
        "    if (\"/channel/\" in parsed_url.path or \"/c/\" in parsed_url.path or\n",
        "        \"/user/\" in parsed_url.path or \"/@\" in parsed_url.path):\n",
        "        return \"Channel\"\n",
        "\n",
        "    return \"Video thông thường hoặc không xác định\""
      ],
      "metadata": {
        "id": "SCRVUYsQhncs"
      },
      "execution_count": 158,
      "outputs": []
    },
    {
      "cell_type": "code",
      "source": [
        "def format_duration(seconds):\n",
        "    \"\"\"Chuyển đổi thời lượng từ giây sang định dạng h:m:s\"\"\"\n",
        "    h = seconds // 3600\n",
        "    m = (seconds % 3600) // 60\n",
        "    s = seconds % 60\n",
        "    if h:\n",
        "        return f\"{h}h {m}m {s}s\"\n",
        "    elif m:\n",
        "        return f\"{m}m {s}s\"\n",
        "    else:\n",
        "        return f\"{s}s\"\n",
        "\n",
        "def format_views(views):\n",
        "    \"\"\"Thêm dấu chấm cách mỗi 3 số\"\"\"\n",
        "    return f\"{views:,}\".replace(\",\", \".\")\n",
        "\n",
        "def get_video_info(video):\n",
        "    \"\"\"Lấy thông tin cơ bản của một video YouTube, có định dạng đẹp\"\"\"\n",
        "    try:\n",
        "        return {\n",
        "            \"Title\": video.title,\n",
        "            \"URL\": video.watch_url,\n",
        "            \"Duration\": format_duration(video.length),\n",
        "            \"Author\": video.author,\n",
        "            \"Views\": format_views(video.views)\n",
        "        }\n",
        "    except Exception as e:\n",
        "        print(f\"Lỗi khi xử lý video {getattr(video, 'watch_url', 'unknown')}: {str(e)}\")\n",
        "        return None"
      ],
      "metadata": {
        "id": "G_8ceKYfibsl"
      },
      "execution_count": 159,
      "outputs": []
    },
    {
      "cell_type": "code",
      "source": [
        "# 3. Hàm tóm tắt video (sử dụng Whisper)\n",
        "def clean_subtitle(text):\n",
        "    \"\"\"Làm sạch phụ đề SRT bằng regex\"\"\"\n",
        "    # Xóa dòng số thứ tự (1, 2, 3...)\n",
        "    text = re.sub(r'^\\d+\\s*$', '', text, flags=re.MULTILINE)\n",
        "    # Xóa dòng timestamp (00:00:00,000 --> 00:00:02,340)\n",
        "    text = re.sub(r'\\d{2}:\\d{2}:\\d{2},\\d{3} --> \\d{2}:\\d{2}:\\d{2},\\d{3}', '', text)\n",
        "    # Xóa các tag HTML nếu có\n",
        "    text = re.sub(r'<[^>]+>', '', text)\n",
        "    # Xóa khoảng trắng thừa\n",
        "    text = ' '.join(text.split())\n",
        "    return text.strip()\n",
        "\n",
        "def generate_summary(video_url):\n",
        "    \"\"\"Tạo tóm tắt video từ phụ đề hoặc audio (tối ưu)\"\"\"\n",
        "    try:\n",
        "        yt = YouTube(video_url)\n",
        "\n",
        "        # Ưu tiên lấy phụ đề tiếng Anh/Việt\n",
        "        caption = None\n",
        "        for lang in ['en', 'vi', 'a.en', 'a.vi']:\n",
        "            if lang in yt.captions:\n",
        "                raw_text = yt.captions[lang].generate_srt_captions()\n",
        "                caption = clean_subtitle(raw_text)\n",
        "                break\n",
        "\n",
        "        # Nếu không có phụ đề, dùng Whisper chuyển audio thành text\n",
        "        if not caption:\n",
        "            print(f\"Đang xử lý audio cho video: {yt.title}\")\n",
        "            audio = yt.streams.filter(only_audio=True).first()\n",
        "            audio_path = f\"temp_{yt.video_id}.mp3\"\n",
        "            audio.download(filename=audio_path)\n",
        "\n",
        "            model = whisper.load_model(\"base\")\n",
        "            result = model.transcribe(audio_path)\n",
        "            os.remove(audio_path)\n",
        "            caption = result[\"text\"]\n",
        "\n",
        "        # Tạo tóm tắt ngắn (30 từ đầu)\n",
        "        summary = ' '.join(caption.split()[:30]) + '...'\n",
        "        return summary\n",
        "\n",
        "    except Exception as e:\n",
        "        print(f\"Lỗi khi tóm tắt video: {str(e)}\")\n",
        "        return None"
      ],
      "metadata": {
        "id": "_sY04ukTpCXU"
      },
      "execution_count": 160,
      "outputs": []
    },
    {
      "cell_type": "code",
      "source": [
        "# 4. Hàm xử lý chính với Spark (đã tích hợp summary)\n",
        "def process_with_spark(url, spark):\n",
        "    \"\"\"Xử lý playlist/channel bằng PySpark với tính năng tóm tắt\"\"\"\n",
        "    url_type = channel_or_playlist(url)\n",
        "\n",
        "    if url_type == \"Playlist\":\n",
        "        videos = Playlist(url).videos\n",
        "        source_type = \"Playlist\"\n",
        "    elif url_type == \"Channel\":\n",
        "        videos = Channel(url).videos\n",
        "        source_type = \"Channel\"\n",
        "    else:\n",
        "        return None\n",
        "\n",
        "    # Tạo RDD từ danh sách video\n",
        "    rdd = spark.sparkContext.parallelize(videos)\n",
        "\n",
        "    def process_video(video):\n",
        "        \"\"\"Xử lý mỗi video bao gồm cả tóm tắt\"\"\"\n",
        "        info = get_video_info(video)\n",
        "        if info:\n",
        "            summary = generate_summary(info[\"URL\"])\n",
        "            return {\n",
        "                \"Title\": info[\"Title\"],\n",
        "                \"URL\": info[\"URL\"],\n",
        "                \"Duration\": info[\"Duration\"],\n",
        "                \"Author\": info[\"Author\"],\n",
        "                \"Views\": info[\"Views\"],\n",
        "                \"Source_Type\": source_type,\n",
        "                \"Summary\": summary  # Đặt summary cuối cùng\n",
        "            }\n",
        "        return None\n",
        "\n",
        "    # Ánh xạ và lọc kết quả\n",
        "    video_info_rdd = rdd.map(process_video).filter(lambda x: x is not None)\n",
        "\n",
        "    # Chuyển thành DataFrame\n",
        "    return spark.createDataFrame(video_info_rdd)"
      ],
      "metadata": {
        "id": "xMUJHYXYidnN"
      },
      "execution_count": 161,
      "outputs": []
    },
    {
      "cell_type": "code",
      "source": [
        "def main():\n",
        "    url = \"https://www.youtube.com/playlist?list=PLOhREDBUkgUuYt8jfB7qEOJBzhcRNqg8I\"\n",
        "\n",
        "    # Cấu hình Spark tối ưu\n",
        "    conf = SparkConf() \\\n",
        "        .set(\"spark.executor.memory\", \"4g\") \\\n",
        "        .set(\"spark.driver.memory\", \"4g\") \\\n",
        "        .set(\"spark.sql.shuffle.partitions\", \"8\") \\\n",
        "        .set(\"spark.default.parallelism\", \"8\") \\\n",
        "        .set(\"spark.serializer\", \"org.apache.spark.serializer.KryoSerializer\")\n",
        "\n",
        "    spark = SparkSession.builder \\\n",
        "        .appName(\"YouTubeFastProcessing\") \\\n",
        "        .config(conf=conf) \\\n",
        "        .getOrCreate()\n",
        "\n",
        "    try:\n",
        "        spark_df = process_with_spark(url, spark)\n",
        "\n",
        "        if spark_df:\n",
        "\n",
        "            # Hiển thị kết quả\n",
        "            print(\"Thông tin video (bao gồm tóm tắt):\")\n",
        "            spark_df.show(truncate=False)\n",
        "            # Lưu file nhanh hơn với coalesce\n",
        "            spark_df.coalesce(1).write \\\n",
        "                .option(\"header\", \"true\") \\\n",
        "                .mode(\"overwrite\") \\\n",
        "                .csv(\"youtube_results\")  # Dùng CSV thay vì Pandas\n",
        "\n",
        "            print(\"Đã lưu kết quả vào thư mục youtube_results\")\n",
        "\n",
        "    finally:\n",
        "        spark.stop()"
      ],
      "metadata": {
        "id": "HpqB1Kq3ie6l"
      },
      "execution_count": 162,
      "outputs": []
    },
    {
      "cell_type": "code",
      "source": [
        "if __name__ == \"__main__\":\n",
        "    main()"
      ],
      "metadata": {
        "colab": {
          "base_uri": "https://localhost:8080/"
        },
        "id": "GACrrE36ijnV",
        "outputId": "7b18c028-7d67-40ca-ee59-9cb80af93577"
      },
      "execution_count": 163,
      "outputs": [
        {
          "output_type": "stream",
          "name": "stdout",
          "text": [
            "Thông tin video (bao gồm tóm tắt):\n",
            "+-------------+--------+-----------+-------------------------------------------------------------------------------------------------------------------------------------------------------------------------+----------------------------------------------------+---------------------------------------+---------+\n",
            "|Author       |Duration|Source_Type|Summary                                                                                                                                                                  |Title                                               |URL                                    |Views    |\n",
            "+-------------+--------+-----------+-------------------------------------------------------------------------------------------------------------------------------------------------------------------------+----------------------------------------------------+---------------------------------------+---------+\n",
            "|Chad Chad    |16m 52s |Playlist   |hey guys my name is Chad Chad really and this is where the magic happens the Etsy magic if there's one thing I've learned in my time on Earth is...                      |Etsy Magic                                          |https://youtube.com/watch?v=kfseJYyCz44|1.934.755|\n",
            "|Andy King    |27m 16s |Playlist   |for as long as I can remember I have struggled immensely with ADHD yeah okay that stops now because when I'm presented with a challenge you guys know me I'm...          |Is This “ADHD-Curing” iPhone Game A Scam?           |https://youtube.com/watch?v=dHK0EU3q9To|261.700  |\n",
            "|penguinz0    |8m 40s  |Playlist   |the world is changing humans are evolving i don't know if it's the 5g or the shungite but something is bringing us kicking and screaming into the 22nd century because...|It's Out of Control Now                             |https://youtube.com/watch?v=k8XS8eBRgRU|3.847.743|\n",
            "|SuberExtraMan|5m 59s  |Playlist   |oh yeah baby that's what I've been waiting for that's what it's all about a Filipino uh critical uh you know okay oh yeah baby baby [Music] critical Arabi oh...         |All Moist Critical \"Yeah Baby!\" variants (40+ clips)|https://youtube.com/watch?v=D6fSkuHfdGE|1.661.173|\n",
            "|ChipotleGod  |4m 20s  |Playlist   |ian do you like chipotle yeah i love chipotle oh your name's chipotle god oh man is this like a bit that you do do you go to every twitch...                             |I Asked 20 Twitch Streamers About Chipotle...       |https://youtube.com/watch?v=PSyuWrSzh38|1.741    |\n",
            "|Joinen       |36m 48s |Playlist   |gabby bell i really wanted to talk about gabby bell because gabby bell is really good she's just like a straight up just good youtuber no more it's joining and...       |YouTuber Reviews Fans' YouTube Channels             |https://youtube.com/watch?v=8bbK4iTy-cE|59.068   |\n",
            "+-------------+--------+-----------+-------------------------------------------------------------------------------------------------------------------------------------------------------------------------+----------------------------------------------------+---------------------------------------+---------+\n",
            "\n",
            "Đã lưu kết quả vào thư mục youtube_results\n"
          ]
        }
      ]
    },
    {
      "cell_type": "code",
      "source": [],
      "metadata": {
        "id": "QnZfL6FpRbgQ"
      },
      "execution_count": 163,
      "outputs": []
    }
  ]
}